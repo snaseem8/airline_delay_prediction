{
 "cells": [
  {
   "cell_type": "markdown",
   "metadata": {},
   "source": [
    "# Linear Regression"
   ]
  },
  {
   "cell_type": "code",
   "execution_count": 47,
   "metadata": {},
   "outputs": [],
   "source": [
    "from plotting import plot_predicted_vs_actual, plot_residuals, plot_loss_curve\n",
    "from lin_reg import LinearRegression\n",
    "import numpy as np"
   ]
  },
  {
   "cell_type": "markdown",
   "metadata": {},
   "source": [
    "## PCA Airline Data\n",
    "### Load data and create training/test splits"
   ]
  },
  {
   "cell_type": "code",
   "execution_count": null,
   "metadata": {},
   "outputs": [
    {
     "name": "stdout",
     "output_type": "stream",
     "text": [
      "Total Dataset:\n",
      "(227496, 3)\n",
      "(227496, 1)\n",
      "\n",
      "Subset (0.5):\n",
      "(113748, 3)\n",
      "(113748, 1)\n",
      "\n",
      "Training:\n",
      "(79623, 3)\n",
      "(79623, 1)\n",
      "\n",
      "Testing:\n",
      "(34125, 3)\n",
      "(34125, 1)\n"
     ]
    }
   ],
   "source": [
    "# import data (airline cleaned AND airline PCA)\n",
    "\n",
    "X_train = np.genfromtxt('/Users/shahmeelnaseem/Documents/GaTech/SPRING 2025/CS 7641/Airline PCA/X_train_pca.csv', delimiter=',', skip_header=1)\n",
    "X_test = np.genfromtxt('/Users/shahmeelnaseem/Documents/GaTech/SPRING 2025/CS 7641/Airline PCA/X_test_pca.csv', delimiter=',', skip_header=1)\n",
    "Y_train = np.genfromtxt('/Users/shahmeelnaseem/Documents/GaTech/SPRING 2025/CS 7641/Airline PCA/y_train_pca.csv', delimiter=',', skip_header=1)\n",
    "Y_test = np.genfromtxt('/Users/shahmeelnaseem/Documents/GaTech/SPRING 2025/CS 7641/Airline PCA/y_test_pca.csv', delimiter=',', skip_header=1)\n",
    "\n",
    "X_train_pca = np.genfromtxt('/Users/shahmeelnaseem/Documents/GaTech/SPRING 2025/CS 7641/Airline PCA/X_train_pca.csv', delimiter=',', skip_header=1)\n",
    "X_test_pca = np.genfromtxt('/Users/shahmeelnaseem/Documents/GaTech/SPRING 2025/CS 7641/Airline PCA/X_test_pca.csv', delimiter=',', skip_header=1)\n",
    "Y_train_pca = np.genfromtxt('/Users/shahmeelnaseem/Documents/GaTech/SPRING 2025/CS 7641/Airline PCA/y_train_pca.csv', delimiter=',', skip_header=1)\n",
    "Y_test_pca = np.genfromtxt('/Users/shahmeelnaseem/Documents/GaTech/SPRING 2025/CS 7641/Airline PCA/y_test_pca.csv', delimiter=',', skip_header=1)"
   ]
  },
  {
   "cell_type": "markdown",
   "metadata": {},
   "source": [
    "### Train and test the model"
   ]
  },
  {
   "cell_type": "code",
   "execution_count": null,
   "metadata": {},
   "outputs": [
    {
     "name": "stdout",
     "output_type": "stream",
     "text": [
      "RMSE closed: 30.7237963772236 \n",
      "\n"
     ]
    },
    {
     "ename": "ValueError",
     "evalue": "too many values to unpack (expected 2)",
     "output_type": "error",
     "traceback": [
      "\u001b[0;31m---------------------------------------------------------------------------\u001b[0m",
      "\u001b[0;31mValueError\u001b[0m                                Traceback (most recent call last)",
      "Cell \u001b[0;32mIn[48], line 17\u001b[0m\n\u001b[1;32m     14\u001b[0m loss_per_epoch_GD \u001b[38;5;241m=\u001b[39m []\n\u001b[1;32m     16\u001b[0m \u001b[38;5;28;01mfor\u001b[39;00m ii \u001b[38;5;129;01min\u001b[39;00m \u001b[38;5;28mrange\u001b[39m(\u001b[38;5;28mlen\u001b[39m(learning_rates)):\n\u001b[0;32m---> 17\u001b[0m     weights[ii, :], loss_per_epoch_temp \u001b[38;5;241m=\u001b[39m reg\u001b[38;5;241m.\u001b[39mlinear_fit_GD(\n\u001b[1;32m     18\u001b[0m         X_train,\n\u001b[1;32m     19\u001b[0m         Y_train,\n\u001b[1;32m     20\u001b[0m         epochs\u001b[38;5;241m=\u001b[39m\u001b[38;5;241m1000\u001b[39m,\n\u001b[1;32m     21\u001b[0m         learning_rate\u001b[38;5;241m=\u001b[39mlearning_rates[ii],\n\u001b[1;32m     22\u001b[0m     )[\u001b[38;5;241m0\u001b[39m]\u001b[38;5;241m.\u001b[39mravel()\n\u001b[1;32m     23\u001b[0m     loss_per_epoch_GD\u001b[38;5;241m.\u001b[39mappend(loss_per_epoch_temp)\n\u001b[1;32m     24\u001b[0m     y_test_pred \u001b[38;5;241m=\u001b[39m reg\u001b[38;5;241m.\u001b[39mpredict(\n\u001b[1;32m     25\u001b[0m         X_test, weights[ii, :]\u001b[38;5;241m.\u001b[39mreshape((X_train\u001b[38;5;241m.\u001b[39mshape[\u001b[38;5;241m1\u001b[39m], \u001b[38;5;241m1\u001b[39m))\n\u001b[1;32m     26\u001b[0m     )\n",
      "\u001b[0;31mValueError\u001b[0m: too many values to unpack (expected 2)"
     ]
    }
   ],
   "source": [
    "reg = LinearRegression()\n",
    "\n",
    "# closed form\n",
    "weights_closed = reg.linear_fit_closed(X_train, Y_train)\n",
    "y_pred_closed = reg.predict(X_test, weights_closed)\n",
    "rmse_closed = reg.rmse(y_pred_closed, Y_test)\n",
    "print(f'RMSE closed: {rmse_closed} \\n')\n",
    "\n",
    "# gradient descent\n",
    "learning_rates = [1e-8, 1e-6, 1e-4]\n",
    "weights = np.zeros((3, X_train.shape[1]))\n",
    "loss_per_epoch_GD = []\n",
    "\n",
    "for ii in range(len(learning_rates)):\n",
    "    weights[ii, :], loss_per_epoch_temp = reg.linear_fit_GD(\n",
    "        X_train,\n",
    "        Y_train,\n",
    "        epochs=1000,\n",
    "        learning_rate=learning_rates[ii],\n",
    "    )[0].ravel()\n",
    "    loss_per_epoch_GD.append(loss_per_epoch_temp)\n",
    "    y_test_pred = reg.predict(\n",
    "        X_test, weights[ii, :].reshape((X_train.shape[1], 1))\n",
    "    )\n",
    "    test_rmse = reg.rmse(y_test_pred, Y_test)\n",
    "    print(\"Linear (GD) RMSE: %.4f (learning_rate=%s)\" % (test_rmse, learning_rates[ii]))\n",
    "    \n",
    "# Look at MSE and RMSE\n",
    "\n",
    "\n"
   ]
  },
  {
   "cell_type": "markdown",
   "metadata": {},
   "source": [
    "### Visualize Results"
   ]
  },
  {
   "cell_type": "code",
   "execution_count": null,
   "metadata": {},
   "outputs": [],
   "source": [
    "plot_predicted_vs_actual(Y_test, y_pred_closed)\n",
    "plot_residuals(Y_test, y_pred_closed)\n",
    "plot_loss_curve()"
   ]
  }
 ],
 "metadata": {
  "kernelspec": {
   "display_name": "ml_hw3",
   "language": "python",
   "name": "python3"
  },
  "language_info": {
   "codemirror_mode": {
    "name": "ipython",
    "version": 3
   },
   "file_extension": ".py",
   "mimetype": "text/x-python",
   "name": "python",
   "nbconvert_exporter": "python",
   "pygments_lexer": "ipython3",
   "version": "3.11.11"
  }
 },
 "nbformat": 4,
 "nbformat_minor": 2
}
